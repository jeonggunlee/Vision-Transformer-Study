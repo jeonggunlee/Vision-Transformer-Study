{
  "nbformat": 4,
  "nbformat_minor": 0,
  "metadata": {
    "colab": {
      "name": "VisionTransformer_MNIST.ipynb",
      "provenance": [],
      "authorship_tag": "ABX9TyOxSf4q1RKdbomhZURTZgLa",
      "include_colab_link": true
    },
    "kernelspec": {
      "name": "python3",
      "display_name": "Python 3"
    },
    "widgets": {
      "application/vnd.jupyter.widget-state+json": {
        "53eaa771d76f441893cbebb459b1741f": {
          "model_module": "@jupyter-widgets/controls",
          "model_name": "HBoxModel",
          "state": {
            "_view_name": "HBoxView",
            "_dom_classes": [],
            "_model_name": "HBoxModel",
            "_view_module": "@jupyter-widgets/controls",
            "_model_module_version": "1.5.0",
            "_view_count": null,
            "_view_module_version": "1.5.0",
            "box_style": "",
            "layout": "IPY_MODEL_2d08a076a7224ea19b8e9b08fdddeb01",
            "_model_module": "@jupyter-widgets/controls",
            "children": [
              "IPY_MODEL_8c8ff4af0b704bc4a82d3b973ac4f60e",
              "IPY_MODEL_72f3f6fd780944ff9f6552c2a220ee1f"
            ]
          }
        },
        "2d08a076a7224ea19b8e9b08fdddeb01": {
          "model_module": "@jupyter-widgets/base",
          "model_name": "LayoutModel",
          "state": {
            "_view_name": "LayoutView",
            "grid_template_rows": null,
            "right": null,
            "justify_content": null,
            "_view_module": "@jupyter-widgets/base",
            "overflow": null,
            "_model_module_version": "1.2.0",
            "_view_count": null,
            "flex_flow": null,
            "width": null,
            "min_width": null,
            "border": null,
            "align_items": null,
            "bottom": null,
            "_model_module": "@jupyter-widgets/base",
            "top": null,
            "grid_column": null,
            "overflow_y": null,
            "overflow_x": null,
            "grid_auto_flow": null,
            "grid_area": null,
            "grid_template_columns": null,
            "flex": null,
            "_model_name": "LayoutModel",
            "justify_items": null,
            "grid_row": null,
            "max_height": null,
            "align_content": null,
            "visibility": null,
            "align_self": null,
            "height": null,
            "min_height": null,
            "padding": null,
            "grid_auto_rows": null,
            "grid_gap": null,
            "max_width": null,
            "order": null,
            "_view_module_version": "1.2.0",
            "grid_template_areas": null,
            "object_position": null,
            "object_fit": null,
            "grid_auto_columns": null,
            "margin": null,
            "display": null,
            "left": null
          }
        },
        "8c8ff4af0b704bc4a82d3b973ac4f60e": {
          "model_module": "@jupyter-widgets/controls",
          "model_name": "FloatProgressModel",
          "state": {
            "_view_name": "ProgressView",
            "style": "IPY_MODEL_cbe899d958134723ad50adca4dc9dfdd",
            "_dom_classes": [],
            "description": "",
            "_model_name": "FloatProgressModel",
            "bar_style": "success",
            "max": 1,
            "_view_module": "@jupyter-widgets/controls",
            "_model_module_version": "1.5.0",
            "value": 1,
            "_view_count": null,
            "_view_module_version": "1.5.0",
            "orientation": "horizontal",
            "min": 0,
            "description_tooltip": null,
            "_model_module": "@jupyter-widgets/controls",
            "layout": "IPY_MODEL_685c5194185f49b9b8ab793ea9fc7bc0"
          }
        },
        "72f3f6fd780944ff9f6552c2a220ee1f": {
          "model_module": "@jupyter-widgets/controls",
          "model_name": "HTMLModel",
          "state": {
            "_view_name": "HTMLView",
            "style": "IPY_MODEL_388130243a164c42943db2603e707ad5",
            "_dom_classes": [],
            "description": "",
            "_model_name": "HTMLModel",
            "placeholder": "​",
            "_view_module": "@jupyter-widgets/controls",
            "_model_module_version": "1.5.0",
            "value": " 9920512/? [00:02&lt;00:00, 3546949.12it/s]",
            "_view_count": null,
            "_view_module_version": "1.5.0",
            "description_tooltip": null,
            "_model_module": "@jupyter-widgets/controls",
            "layout": "IPY_MODEL_60d0f136e51f409bb7108f044bbca853"
          }
        },
        "cbe899d958134723ad50adca4dc9dfdd": {
          "model_module": "@jupyter-widgets/controls",
          "model_name": "ProgressStyleModel",
          "state": {
            "_view_name": "StyleView",
            "_model_name": "ProgressStyleModel",
            "description_width": "initial",
            "_view_module": "@jupyter-widgets/base",
            "_model_module_version": "1.5.0",
            "_view_count": null,
            "_view_module_version": "1.2.0",
            "bar_color": null,
            "_model_module": "@jupyter-widgets/controls"
          }
        },
        "685c5194185f49b9b8ab793ea9fc7bc0": {
          "model_module": "@jupyter-widgets/base",
          "model_name": "LayoutModel",
          "state": {
            "_view_name": "LayoutView",
            "grid_template_rows": null,
            "right": null,
            "justify_content": null,
            "_view_module": "@jupyter-widgets/base",
            "overflow": null,
            "_model_module_version": "1.2.0",
            "_view_count": null,
            "flex_flow": null,
            "width": null,
            "min_width": null,
            "border": null,
            "align_items": null,
            "bottom": null,
            "_model_module": "@jupyter-widgets/base",
            "top": null,
            "grid_column": null,
            "overflow_y": null,
            "overflow_x": null,
            "grid_auto_flow": null,
            "grid_area": null,
            "grid_template_columns": null,
            "flex": null,
            "_model_name": "LayoutModel",
            "justify_items": null,
            "grid_row": null,
            "max_height": null,
            "align_content": null,
            "visibility": null,
            "align_self": null,
            "height": null,
            "min_height": null,
            "padding": null,
            "grid_auto_rows": null,
            "grid_gap": null,
            "max_width": null,
            "order": null,
            "_view_module_version": "1.2.0",
            "grid_template_areas": null,
            "object_position": null,
            "object_fit": null,
            "grid_auto_columns": null,
            "margin": null,
            "display": null,
            "left": null
          }
        },
        "388130243a164c42943db2603e707ad5": {
          "model_module": "@jupyter-widgets/controls",
          "model_name": "DescriptionStyleModel",
          "state": {
            "_view_name": "StyleView",
            "_model_name": "DescriptionStyleModel",
            "description_width": "",
            "_view_module": "@jupyter-widgets/base",
            "_model_module_version": "1.5.0",
            "_view_count": null,
            "_view_module_version": "1.2.0",
            "_model_module": "@jupyter-widgets/controls"
          }
        },
        "60d0f136e51f409bb7108f044bbca853": {
          "model_module": "@jupyter-widgets/base",
          "model_name": "LayoutModel",
          "state": {
            "_view_name": "LayoutView",
            "grid_template_rows": null,
            "right": null,
            "justify_content": null,
            "_view_module": "@jupyter-widgets/base",
            "overflow": null,
            "_model_module_version": "1.2.0",
            "_view_count": null,
            "flex_flow": null,
            "width": null,
            "min_width": null,
            "border": null,
            "align_items": null,
            "bottom": null,
            "_model_module": "@jupyter-widgets/base",
            "top": null,
            "grid_column": null,
            "overflow_y": null,
            "overflow_x": null,
            "grid_auto_flow": null,
            "grid_area": null,
            "grid_template_columns": null,
            "flex": null,
            "_model_name": "LayoutModel",
            "justify_items": null,
            "grid_row": null,
            "max_height": null,
            "align_content": null,
            "visibility": null,
            "align_self": null,
            "height": null,
            "min_height": null,
            "padding": null,
            "grid_auto_rows": null,
            "grid_gap": null,
            "max_width": null,
            "order": null,
            "_view_module_version": "1.2.0",
            "grid_template_areas": null,
            "object_position": null,
            "object_fit": null,
            "grid_auto_columns": null,
            "margin": null,
            "display": null,
            "left": null
          }
        },
        "d394a52f12714fc19dea9ebe4a1b94d7": {
          "model_module": "@jupyter-widgets/controls",
          "model_name": "HBoxModel",
          "state": {
            "_view_name": "HBoxView",
            "_dom_classes": [],
            "_model_name": "HBoxModel",
            "_view_module": "@jupyter-widgets/controls",
            "_model_module_version": "1.5.0",
            "_view_count": null,
            "_view_module_version": "1.5.0",
            "box_style": "",
            "layout": "IPY_MODEL_067dd587a627438cb6f8828f2ced666a",
            "_model_module": "@jupyter-widgets/controls",
            "children": [
              "IPY_MODEL_745ee85161e141159988e010fa24459e",
              "IPY_MODEL_6fc053f49b6d42bca42bc88d7322562d"
            ]
          }
        },
        "067dd587a627438cb6f8828f2ced666a": {
          "model_module": "@jupyter-widgets/base",
          "model_name": "LayoutModel",
          "state": {
            "_view_name": "LayoutView",
            "grid_template_rows": null,
            "right": null,
            "justify_content": null,
            "_view_module": "@jupyter-widgets/base",
            "overflow": null,
            "_model_module_version": "1.2.0",
            "_view_count": null,
            "flex_flow": null,
            "width": null,
            "min_width": null,
            "border": null,
            "align_items": null,
            "bottom": null,
            "_model_module": "@jupyter-widgets/base",
            "top": null,
            "grid_column": null,
            "overflow_y": null,
            "overflow_x": null,
            "grid_auto_flow": null,
            "grid_area": null,
            "grid_template_columns": null,
            "flex": null,
            "_model_name": "LayoutModel",
            "justify_items": null,
            "grid_row": null,
            "max_height": null,
            "align_content": null,
            "visibility": null,
            "align_self": null,
            "height": null,
            "min_height": null,
            "padding": null,
            "grid_auto_rows": null,
            "grid_gap": null,
            "max_width": null,
            "order": null,
            "_view_module_version": "1.2.0",
            "grid_template_areas": null,
            "object_position": null,
            "object_fit": null,
            "grid_auto_columns": null,
            "margin": null,
            "display": null,
            "left": null
          }
        },
        "745ee85161e141159988e010fa24459e": {
          "model_module": "@jupyter-widgets/controls",
          "model_name": "FloatProgressModel",
          "state": {
            "_view_name": "ProgressView",
            "style": "IPY_MODEL_770a08a6955546d6aeb59fe2897001ea",
            "_dom_classes": [],
            "description": "",
            "_model_name": "FloatProgressModel",
            "bar_style": "success",
            "max": 1,
            "_view_module": "@jupyter-widgets/controls",
            "_model_module_version": "1.5.0",
            "value": 1,
            "_view_count": null,
            "_view_module_version": "1.5.0",
            "orientation": "horizontal",
            "min": 0,
            "description_tooltip": null,
            "_model_module": "@jupyter-widgets/controls",
            "layout": "IPY_MODEL_4965b6cd633444eba35e3c6c4b7b0f64"
          }
        },
        "6fc053f49b6d42bca42bc88d7322562d": {
          "model_module": "@jupyter-widgets/controls",
          "model_name": "HTMLModel",
          "state": {
            "_view_name": "HTMLView",
            "style": "IPY_MODEL_f4d5a4d1f2a24f95b9052c7680639208",
            "_dom_classes": [],
            "description": "",
            "_model_name": "HTMLModel",
            "placeholder": "​",
            "_view_module": "@jupyter-widgets/controls",
            "_model_module_version": "1.5.0",
            "value": " 32768/? [00:00&lt;00:00, 115107.62it/s]",
            "_view_count": null,
            "_view_module_version": "1.5.0",
            "description_tooltip": null,
            "_model_module": "@jupyter-widgets/controls",
            "layout": "IPY_MODEL_b9bc94021a9148dab0a91c56ea53c926"
          }
        },
        "770a08a6955546d6aeb59fe2897001ea": {
          "model_module": "@jupyter-widgets/controls",
          "model_name": "ProgressStyleModel",
          "state": {
            "_view_name": "StyleView",
            "_model_name": "ProgressStyleModel",
            "description_width": "initial",
            "_view_module": "@jupyter-widgets/base",
            "_model_module_version": "1.5.0",
            "_view_count": null,
            "_view_module_version": "1.2.0",
            "bar_color": null,
            "_model_module": "@jupyter-widgets/controls"
          }
        },
        "4965b6cd633444eba35e3c6c4b7b0f64": {
          "model_module": "@jupyter-widgets/base",
          "model_name": "LayoutModel",
          "state": {
            "_view_name": "LayoutView",
            "grid_template_rows": null,
            "right": null,
            "justify_content": null,
            "_view_module": "@jupyter-widgets/base",
            "overflow": null,
            "_model_module_version": "1.2.0",
            "_view_count": null,
            "flex_flow": null,
            "width": null,
            "min_width": null,
            "border": null,
            "align_items": null,
            "bottom": null,
            "_model_module": "@jupyter-widgets/base",
            "top": null,
            "grid_column": null,
            "overflow_y": null,
            "overflow_x": null,
            "grid_auto_flow": null,
            "grid_area": null,
            "grid_template_columns": null,
            "flex": null,
            "_model_name": "LayoutModel",
            "justify_items": null,
            "grid_row": null,
            "max_height": null,
            "align_content": null,
            "visibility": null,
            "align_self": null,
            "height": null,
            "min_height": null,
            "padding": null,
            "grid_auto_rows": null,
            "grid_gap": null,
            "max_width": null,
            "order": null,
            "_view_module_version": "1.2.0",
            "grid_template_areas": null,
            "object_position": null,
            "object_fit": null,
            "grid_auto_columns": null,
            "margin": null,
            "display": null,
            "left": null
          }
        },
        "f4d5a4d1f2a24f95b9052c7680639208": {
          "model_module": "@jupyter-widgets/controls",
          "model_name": "DescriptionStyleModel",
          "state": {
            "_view_name": "StyleView",
            "_model_name": "DescriptionStyleModel",
            "description_width": "",
            "_view_module": "@jupyter-widgets/base",
            "_model_module_version": "1.5.0",
            "_view_count": null,
            "_view_module_version": "1.2.0",
            "_model_module": "@jupyter-widgets/controls"
          }
        },
        "b9bc94021a9148dab0a91c56ea53c926": {
          "model_module": "@jupyter-widgets/base",
          "model_name": "LayoutModel",
          "state": {
            "_view_name": "LayoutView",
            "grid_template_rows": null,
            "right": null,
            "justify_content": null,
            "_view_module": "@jupyter-widgets/base",
            "overflow": null,
            "_model_module_version": "1.2.0",
            "_view_count": null,
            "flex_flow": null,
            "width": null,
            "min_width": null,
            "border": null,
            "align_items": null,
            "bottom": null,
            "_model_module": "@jupyter-widgets/base",
            "top": null,
            "grid_column": null,
            "overflow_y": null,
            "overflow_x": null,
            "grid_auto_flow": null,
            "grid_area": null,
            "grid_template_columns": null,
            "flex": null,
            "_model_name": "LayoutModel",
            "justify_items": null,
            "grid_row": null,
            "max_height": null,
            "align_content": null,
            "visibility": null,
            "align_self": null,
            "height": null,
            "min_height": null,
            "padding": null,
            "grid_auto_rows": null,
            "grid_gap": null,
            "max_width": null,
            "order": null,
            "_view_module_version": "1.2.0",
            "grid_template_areas": null,
            "object_position": null,
            "object_fit": null,
            "grid_auto_columns": null,
            "margin": null,
            "display": null,
            "left": null
          }
        },
        "c2b09e67b62a4a55a3faec440d65d261": {
          "model_module": "@jupyter-widgets/controls",
          "model_name": "HBoxModel",
          "state": {
            "_view_name": "HBoxView",
            "_dom_classes": [],
            "_model_name": "HBoxModel",
            "_view_module": "@jupyter-widgets/controls",
            "_model_module_version": "1.5.0",
            "_view_count": null,
            "_view_module_version": "1.5.0",
            "box_style": "",
            "layout": "IPY_MODEL_5f105f7cc14b4c848f3ce9bc0b021c0b",
            "_model_module": "@jupyter-widgets/controls",
            "children": [
              "IPY_MODEL_501b892bd02443e685bb134de97e3236",
              "IPY_MODEL_ce714cdf28da42b584a05c21a80c248d"
            ]
          }
        },
        "5f105f7cc14b4c848f3ce9bc0b021c0b": {
          "model_module": "@jupyter-widgets/base",
          "model_name": "LayoutModel",
          "state": {
            "_view_name": "LayoutView",
            "grid_template_rows": null,
            "right": null,
            "justify_content": null,
            "_view_module": "@jupyter-widgets/base",
            "overflow": null,
            "_model_module_version": "1.2.0",
            "_view_count": null,
            "flex_flow": null,
            "width": null,
            "min_width": null,
            "border": null,
            "align_items": null,
            "bottom": null,
            "_model_module": "@jupyter-widgets/base",
            "top": null,
            "grid_column": null,
            "overflow_y": null,
            "overflow_x": null,
            "grid_auto_flow": null,
            "grid_area": null,
            "grid_template_columns": null,
            "flex": null,
            "_model_name": "LayoutModel",
            "justify_items": null,
            "grid_row": null,
            "max_height": null,
            "align_content": null,
            "visibility": null,
            "align_self": null,
            "height": null,
            "min_height": null,
            "padding": null,
            "grid_auto_rows": null,
            "grid_gap": null,
            "max_width": null,
            "order": null,
            "_view_module_version": "1.2.0",
            "grid_template_areas": null,
            "object_position": null,
            "object_fit": null,
            "grid_auto_columns": null,
            "margin": null,
            "display": null,
            "left": null
          }
        },
        "501b892bd02443e685bb134de97e3236": {
          "model_module": "@jupyter-widgets/controls",
          "model_name": "FloatProgressModel",
          "state": {
            "_view_name": "ProgressView",
            "style": "IPY_MODEL_e7c71fd7c3954959b5a33b2b7b698f92",
            "_dom_classes": [],
            "description": "",
            "_model_name": "FloatProgressModel",
            "bar_style": "success",
            "max": 1,
            "_view_module": "@jupyter-widgets/controls",
            "_model_module_version": "1.5.0",
            "value": 1,
            "_view_count": null,
            "_view_module_version": "1.5.0",
            "orientation": "horizontal",
            "min": 0,
            "description_tooltip": null,
            "_model_module": "@jupyter-widgets/controls",
            "layout": "IPY_MODEL_4ff646c1b94449619abd6dc01fec137b"
          }
        },
        "ce714cdf28da42b584a05c21a80c248d": {
          "model_module": "@jupyter-widgets/controls",
          "model_name": "HTMLModel",
          "state": {
            "_view_name": "HTMLView",
            "style": "IPY_MODEL_5a1fbd45c6234435b7fd041985a09afb",
            "_dom_classes": [],
            "description": "",
            "_model_name": "HTMLModel",
            "placeholder": "​",
            "_view_module": "@jupyter-widgets/controls",
            "_model_module_version": "1.5.0",
            "value": " 1654784/? [00:01&lt;00:00, 1528453.40it/s]",
            "_view_count": null,
            "_view_module_version": "1.5.0",
            "description_tooltip": null,
            "_model_module": "@jupyter-widgets/controls",
            "layout": "IPY_MODEL_9012f7147d9b4c3fa01797b9d96e5779"
          }
        },
        "e7c71fd7c3954959b5a33b2b7b698f92": {
          "model_module": "@jupyter-widgets/controls",
          "model_name": "ProgressStyleModel",
          "state": {
            "_view_name": "StyleView",
            "_model_name": "ProgressStyleModel",
            "description_width": "initial",
            "_view_module": "@jupyter-widgets/base",
            "_model_module_version": "1.5.0",
            "_view_count": null,
            "_view_module_version": "1.2.0",
            "bar_color": null,
            "_model_module": "@jupyter-widgets/controls"
          }
        },
        "4ff646c1b94449619abd6dc01fec137b": {
          "model_module": "@jupyter-widgets/base",
          "model_name": "LayoutModel",
          "state": {
            "_view_name": "LayoutView",
            "grid_template_rows": null,
            "right": null,
            "justify_content": null,
            "_view_module": "@jupyter-widgets/base",
            "overflow": null,
            "_model_module_version": "1.2.0",
            "_view_count": null,
            "flex_flow": null,
            "width": null,
            "min_width": null,
            "border": null,
            "align_items": null,
            "bottom": null,
            "_model_module": "@jupyter-widgets/base",
            "top": null,
            "grid_column": null,
            "overflow_y": null,
            "overflow_x": null,
            "grid_auto_flow": null,
            "grid_area": null,
            "grid_template_columns": null,
            "flex": null,
            "_model_name": "LayoutModel",
            "justify_items": null,
            "grid_row": null,
            "max_height": null,
            "align_content": null,
            "visibility": null,
            "align_self": null,
            "height": null,
            "min_height": null,
            "padding": null,
            "grid_auto_rows": null,
            "grid_gap": null,
            "max_width": null,
            "order": null,
            "_view_module_version": "1.2.0",
            "grid_template_areas": null,
            "object_position": null,
            "object_fit": null,
            "grid_auto_columns": null,
            "margin": null,
            "display": null,
            "left": null
          }
        },
        "5a1fbd45c6234435b7fd041985a09afb": {
          "model_module": "@jupyter-widgets/controls",
          "model_name": "DescriptionStyleModel",
          "state": {
            "_view_name": "StyleView",
            "_model_name": "DescriptionStyleModel",
            "description_width": "",
            "_view_module": "@jupyter-widgets/base",
            "_model_module_version": "1.5.0",
            "_view_count": null,
            "_view_module_version": "1.2.0",
            "_model_module": "@jupyter-widgets/controls"
          }
        },
        "9012f7147d9b4c3fa01797b9d96e5779": {
          "model_module": "@jupyter-widgets/base",
          "model_name": "LayoutModel",
          "state": {
            "_view_name": "LayoutView",
            "grid_template_rows": null,
            "right": null,
            "justify_content": null,
            "_view_module": "@jupyter-widgets/base",
            "overflow": null,
            "_model_module_version": "1.2.0",
            "_view_count": null,
            "flex_flow": null,
            "width": null,
            "min_width": null,
            "border": null,
            "align_items": null,
            "bottom": null,
            "_model_module": "@jupyter-widgets/base",
            "top": null,
            "grid_column": null,
            "overflow_y": null,
            "overflow_x": null,
            "grid_auto_flow": null,
            "grid_area": null,
            "grid_template_columns": null,
            "flex": null,
            "_model_name": "LayoutModel",
            "justify_items": null,
            "grid_row": null,
            "max_height": null,
            "align_content": null,
            "visibility": null,
            "align_self": null,
            "height": null,
            "min_height": null,
            "padding": null,
            "grid_auto_rows": null,
            "grid_gap": null,
            "max_width": null,
            "order": null,
            "_view_module_version": "1.2.0",
            "grid_template_areas": null,
            "object_position": null,
            "object_fit": null,
            "grid_auto_columns": null,
            "margin": null,
            "display": null,
            "left": null
          }
        },
        "ea96010b41cb47bc9b82aa7a6ec38aac": {
          "model_module": "@jupyter-widgets/controls",
          "model_name": "HBoxModel",
          "state": {
            "_view_name": "HBoxView",
            "_dom_classes": [],
            "_model_name": "HBoxModel",
            "_view_module": "@jupyter-widgets/controls",
            "_model_module_version": "1.5.0",
            "_view_count": null,
            "_view_module_version": "1.5.0",
            "box_style": "",
            "layout": "IPY_MODEL_26c4391919ff4b34bceae560a83204ee",
            "_model_module": "@jupyter-widgets/controls",
            "children": [
              "IPY_MODEL_4dbda90e3bd84221aff55bd5a0ea6752",
              "IPY_MODEL_595033d40a1d432eacffbd90d1ab291d"
            ]
          }
        },
        "26c4391919ff4b34bceae560a83204ee": {
          "model_module": "@jupyter-widgets/base",
          "model_name": "LayoutModel",
          "state": {
            "_view_name": "LayoutView",
            "grid_template_rows": null,
            "right": null,
            "justify_content": null,
            "_view_module": "@jupyter-widgets/base",
            "overflow": null,
            "_model_module_version": "1.2.0",
            "_view_count": null,
            "flex_flow": null,
            "width": null,
            "min_width": null,
            "border": null,
            "align_items": null,
            "bottom": null,
            "_model_module": "@jupyter-widgets/base",
            "top": null,
            "grid_column": null,
            "overflow_y": null,
            "overflow_x": null,
            "grid_auto_flow": null,
            "grid_area": null,
            "grid_template_columns": null,
            "flex": null,
            "_model_name": "LayoutModel",
            "justify_items": null,
            "grid_row": null,
            "max_height": null,
            "align_content": null,
            "visibility": null,
            "align_self": null,
            "height": null,
            "min_height": null,
            "padding": null,
            "grid_auto_rows": null,
            "grid_gap": null,
            "max_width": null,
            "order": null,
            "_view_module_version": "1.2.0",
            "grid_template_areas": null,
            "object_position": null,
            "object_fit": null,
            "grid_auto_columns": null,
            "margin": null,
            "display": null,
            "left": null
          }
        },
        "4dbda90e3bd84221aff55bd5a0ea6752": {
          "model_module": "@jupyter-widgets/controls",
          "model_name": "FloatProgressModel",
          "state": {
            "_view_name": "ProgressView",
            "style": "IPY_MODEL_f1a760e1713e4626ac3dc81a1ea8c491",
            "_dom_classes": [],
            "description": "",
            "_model_name": "FloatProgressModel",
            "bar_style": "success",
            "max": 1,
            "_view_module": "@jupyter-widgets/controls",
            "_model_module_version": "1.5.0",
            "value": 1,
            "_view_count": null,
            "_view_module_version": "1.5.0",
            "orientation": "horizontal",
            "min": 0,
            "description_tooltip": null,
            "_model_module": "@jupyter-widgets/controls",
            "layout": "IPY_MODEL_f68fe9e07ab34d029f2289712b302d8d"
          }
        },
        "595033d40a1d432eacffbd90d1ab291d": {
          "model_module": "@jupyter-widgets/controls",
          "model_name": "HTMLModel",
          "state": {
            "_view_name": "HTMLView",
            "style": "IPY_MODEL_94a00b87beca47919e7532d04f10b9a4",
            "_dom_classes": [],
            "description": "",
            "_model_name": "HTMLModel",
            "placeholder": "​",
            "_view_module": "@jupyter-widgets/controls",
            "_model_module_version": "1.5.0",
            "value": " 8192/? [00:00&lt;00:00, 22700.97it/s]",
            "_view_count": null,
            "_view_module_version": "1.5.0",
            "description_tooltip": null,
            "_model_module": "@jupyter-widgets/controls",
            "layout": "IPY_MODEL_8fa0499d16c54edcb5c2f1c3a9666147"
          }
        },
        "f1a760e1713e4626ac3dc81a1ea8c491": {
          "model_module": "@jupyter-widgets/controls",
          "model_name": "ProgressStyleModel",
          "state": {
            "_view_name": "StyleView",
            "_model_name": "ProgressStyleModel",
            "description_width": "initial",
            "_view_module": "@jupyter-widgets/base",
            "_model_module_version": "1.5.0",
            "_view_count": null,
            "_view_module_version": "1.2.0",
            "bar_color": null,
            "_model_module": "@jupyter-widgets/controls"
          }
        },
        "f68fe9e07ab34d029f2289712b302d8d": {
          "model_module": "@jupyter-widgets/base",
          "model_name": "LayoutModel",
          "state": {
            "_view_name": "LayoutView",
            "grid_template_rows": null,
            "right": null,
            "justify_content": null,
            "_view_module": "@jupyter-widgets/base",
            "overflow": null,
            "_model_module_version": "1.2.0",
            "_view_count": null,
            "flex_flow": null,
            "width": null,
            "min_width": null,
            "border": null,
            "align_items": null,
            "bottom": null,
            "_model_module": "@jupyter-widgets/base",
            "top": null,
            "grid_column": null,
            "overflow_y": null,
            "overflow_x": null,
            "grid_auto_flow": null,
            "grid_area": null,
            "grid_template_columns": null,
            "flex": null,
            "_model_name": "LayoutModel",
            "justify_items": null,
            "grid_row": null,
            "max_height": null,
            "align_content": null,
            "visibility": null,
            "align_self": null,
            "height": null,
            "min_height": null,
            "padding": null,
            "grid_auto_rows": null,
            "grid_gap": null,
            "max_width": null,
            "order": null,
            "_view_module_version": "1.2.0",
            "grid_template_areas": null,
            "object_position": null,
            "object_fit": null,
            "grid_auto_columns": null,
            "margin": null,
            "display": null,
            "left": null
          }
        },
        "94a00b87beca47919e7532d04f10b9a4": {
          "model_module": "@jupyter-widgets/controls",
          "model_name": "DescriptionStyleModel",
          "state": {
            "_view_name": "StyleView",
            "_model_name": "DescriptionStyleModel",
            "description_width": "",
            "_view_module": "@jupyter-widgets/base",
            "_model_module_version": "1.5.0",
            "_view_count": null,
            "_view_module_version": "1.2.0",
            "_model_module": "@jupyter-widgets/controls"
          }
        },
        "8fa0499d16c54edcb5c2f1c3a9666147": {
          "model_module": "@jupyter-widgets/base",
          "model_name": "LayoutModel",
          "state": {
            "_view_name": "LayoutView",
            "grid_template_rows": null,
            "right": null,
            "justify_content": null,
            "_view_module": "@jupyter-widgets/base",
            "overflow": null,
            "_model_module_version": "1.2.0",
            "_view_count": null,
            "flex_flow": null,
            "width": null,
            "min_width": null,
            "border": null,
            "align_items": null,
            "bottom": null,
            "_model_module": "@jupyter-widgets/base",
            "top": null,
            "grid_column": null,
            "overflow_y": null,
            "overflow_x": null,
            "grid_auto_flow": null,
            "grid_area": null,
            "grid_template_columns": null,
            "flex": null,
            "_model_name": "LayoutModel",
            "justify_items": null,
            "grid_row": null,
            "max_height": null,
            "align_content": null,
            "visibility": null,
            "align_self": null,
            "height": null,
            "min_height": null,
            "padding": null,
            "grid_auto_rows": null,
            "grid_gap": null,
            "max_width": null,
            "order": null,
            "_view_module_version": "1.2.0",
            "grid_template_areas": null,
            "object_position": null,
            "object_fit": null,
            "grid_auto_columns": null,
            "margin": null,
            "display": null,
            "left": null
          }
        }
      }
    },
    "accelerator": "GPU"
  },
  "cells": [
    {
      "cell_type": "markdown",
      "metadata": {
        "id": "view-in-github",
        "colab_type": "text"
      },
      "source": [
        "<a href=\"https://colab.research.google.com/github/jeonggunlee/Vision-Transformer-Study/blob/main/VisionTransformer_MNIST.ipynb\" target=\"_parent\"><img src=\"https://colab.research.google.com/assets/colab-badge.svg\" alt=\"Open In Colab\"/></a>"
      ]
    },
    {
      "cell_type": "markdown",
      "metadata": {
        "id": "4qHuKzHs10J0"
      },
      "source": [
        "# Vision Transformer with Simples MNIST dataset!\r\n",
        "\r\n",
        "최근 주목 받고 있는 Vision Transformer를 효과적으로 이해하기 위해서 Simple 이미지 데이터셋인 MNIST를 이용하여 Vision Transformer의 동작을 살펴봄.\r\n",
        "\r\n",
        "2021-02-04"
      ]
    },
    {
      "cell_type": "code",
      "metadata": {
        "colab": {
          "base_uri": "https://localhost:8080/",
          "height": 446,
          "referenced_widgets": [
            "53eaa771d76f441893cbebb459b1741f",
            "2d08a076a7224ea19b8e9b08fdddeb01",
            "8c8ff4af0b704bc4a82d3b973ac4f60e",
            "72f3f6fd780944ff9f6552c2a220ee1f",
            "cbe899d958134723ad50adca4dc9dfdd",
            "685c5194185f49b9b8ab793ea9fc7bc0",
            "388130243a164c42943db2603e707ad5",
            "60d0f136e51f409bb7108f044bbca853",
            "d394a52f12714fc19dea9ebe4a1b94d7",
            "067dd587a627438cb6f8828f2ced666a",
            "745ee85161e141159988e010fa24459e",
            "6fc053f49b6d42bca42bc88d7322562d",
            "770a08a6955546d6aeb59fe2897001ea",
            "4965b6cd633444eba35e3c6c4b7b0f64",
            "f4d5a4d1f2a24f95b9052c7680639208",
            "b9bc94021a9148dab0a91c56ea53c926",
            "c2b09e67b62a4a55a3faec440d65d261",
            "5f105f7cc14b4c848f3ce9bc0b021c0b",
            "501b892bd02443e685bb134de97e3236",
            "ce714cdf28da42b584a05c21a80c248d",
            "e7c71fd7c3954959b5a33b2b7b698f92",
            "4ff646c1b94449619abd6dc01fec137b",
            "5a1fbd45c6234435b7fd041985a09afb",
            "9012f7147d9b4c3fa01797b9d96e5779",
            "ea96010b41cb47bc9b82aa7a6ec38aac",
            "26c4391919ff4b34bceae560a83204ee",
            "4dbda90e3bd84221aff55bd5a0ea6752",
            "595033d40a1d432eacffbd90d1ab291d",
            "f1a760e1713e4626ac3dc81a1ea8c491",
            "f68fe9e07ab34d029f2289712b302d8d",
            "94a00b87beca47919e7532d04f10b9a4",
            "8fa0499d16c54edcb5c2f1c3a9666147"
          ]
        },
        "id": "vwzoajvCsu2H",
        "outputId": "2ae92d70-5969-4d6c-d6e0-e195c4313942"
      },
      "source": [
        "import torch.nn as nn\r\n",
        "import torch\r\n",
        "import torchvision\r\n",
        "import torch.optim as optim\r\n",
        "\r\n",
        "# MNIST data - raining set / test set. Normalize\r\n",
        "\r\n",
        "torch.manual_seed(42)\r\n",
        "\r\n",
        "# MNIST 이미지 데이터 셋 다운로드\r\n",
        "DOWNLOAD_PATH = '/data/mnist'\r\n",
        "\r\n",
        "# 학습시 배치 사이즈 \r\n",
        "BATCH_SIZE_TRAIN = 100\r\n",
        "# 검증시 배치 사이즈\r\n",
        "BATCH_SIZE_TEST = 1000\r\n",
        "\r\n",
        "# MNIST 데이터셋은 \"28x28\" 사이즈의 손글씨 데이터셋\r\n",
        "#\r\n",
        "\r\n",
        "transform_mnist = torchvision.transforms.Compose([torchvision.transforms.ToTensor(),\r\n",
        "                               torchvision.transforms.Normalize((0.1307,), (0.3081,))])\r\n",
        "\r\n",
        "train_set = torchvision.datasets.MNIST(DOWNLOAD_PATH, train=True, download=True, transform=transform_mnist)\r\n",
        "train_loader = torch.utils.data.DataLoader(train_set, batch_size=BATCH_SIZE_TRAIN, shuffle=True)\r\n",
        "\r\n",
        "test_set = torchvision.datasets.MNIST(DOWNLOAD_PATH, train=False, download=True, transform=transform_mnist)\r\n",
        "test_loader = torch.utils.data.DataLoader(test_set, batch_size=BATCH_SIZE_TEST, shuffle=True)"
      ],
      "execution_count": null,
      "outputs": [
        {
          "output_type": "stream",
          "text": [
            "Downloading http://yann.lecun.com/exdb/mnist/train-images-idx3-ubyte.gz to /data/mnist/MNIST/raw/train-images-idx3-ubyte.gz\n"
          ],
          "name": "stdout"
        },
        {
          "output_type": "display_data",
          "data": {
            "application/vnd.jupyter.widget-view+json": {
              "model_id": "53eaa771d76f441893cbebb459b1741f",
              "version_minor": 0,
              "version_major": 2
            },
            "text/plain": [
              "HBox(children=(FloatProgress(value=1.0, bar_style='info', max=1.0), HTML(value='')))"
            ]
          },
          "metadata": {
            "tags": []
          }
        },
        {
          "output_type": "stream",
          "text": [
            "Extracting /data/mnist/MNIST/raw/train-images-idx3-ubyte.gz to /data/mnist/MNIST/raw\n",
            "Downloading http://yann.lecun.com/exdb/mnist/train-labels-idx1-ubyte.gz to /data/mnist/MNIST/raw/train-labels-idx1-ubyte.gz\n"
          ],
          "name": "stdout"
        },
        {
          "output_type": "display_data",
          "data": {
            "application/vnd.jupyter.widget-view+json": {
              "model_id": "d394a52f12714fc19dea9ebe4a1b94d7",
              "version_minor": 0,
              "version_major": 2
            },
            "text/plain": [
              "HBox(children=(FloatProgress(value=1.0, bar_style='info', max=1.0), HTML(value='')))"
            ]
          },
          "metadata": {
            "tags": []
          }
        },
        {
          "output_type": "stream",
          "text": [
            "Extracting /data/mnist/MNIST/raw/train-labels-idx1-ubyte.gz to /data/mnist/MNIST/raw\n",
            "Downloading http://yann.lecun.com/exdb/mnist/t10k-images-idx3-ubyte.gz to /data/mnist/MNIST/raw/t10k-images-idx3-ubyte.gz\n",
            "\n"
          ],
          "name": "stdout"
        },
        {
          "output_type": "display_data",
          "data": {
            "application/vnd.jupyter.widget-view+json": {
              "model_id": "c2b09e67b62a4a55a3faec440d65d261",
              "version_minor": 0,
              "version_major": 2
            },
            "text/plain": [
              "HBox(children=(FloatProgress(value=1.0, bar_style='info', max=1.0), HTML(value='')))"
            ]
          },
          "metadata": {
            "tags": []
          }
        },
        {
          "output_type": "stream",
          "text": [
            "Extracting /data/mnist/MNIST/raw/t10k-images-idx3-ubyte.gz to /data/mnist/MNIST/raw\n",
            "Downloading http://yann.lecun.com/exdb/mnist/t10k-labels-idx1-ubyte.gz to /data/mnist/MNIST/raw/t10k-labels-idx1-ubyte.gz\n"
          ],
          "name": "stdout"
        },
        {
          "output_type": "display_data",
          "data": {
            "application/vnd.jupyter.widget-view+json": {
              "model_id": "ea96010b41cb47bc9b82aa7a6ec38aac",
              "version_minor": 0,
              "version_major": 2
            },
            "text/plain": [
              "HBox(children=(FloatProgress(value=1.0, bar_style='info', max=1.0), HTML(value='')))"
            ]
          },
          "metadata": {
            "tags": []
          }
        },
        {
          "output_type": "stream",
          "text": [
            "Extracting /data/mnist/MNIST/raw/t10k-labels-idx1-ubyte.gz to /data/mnist/MNIST/raw\n",
            "Processing...\n",
            "Done!\n",
            "\n",
            "\n",
            "\n"
          ],
          "name": "stdout"
        },
        {
          "output_type": "stream",
          "text": [
            "/usr/local/lib/python3.6/dist-packages/torchvision/datasets/mnist.py:480: UserWarning: The given NumPy array is not writeable, and PyTorch does not support non-writeable tensors. This means you can write to the underlying (supposedly non-writeable) NumPy array using the tensor. You may want to copy the array to protect its data or make it writeable before converting it to a tensor. This type of warning will be suppressed for the rest of this program. (Triggered internally at  /pytorch/torch/csrc/utils/tensor_numpy.cpp:141.)\n",
            "  return torch.from_numpy(parsed.astype(m[2], copy=False)).view(*s)\n"
          ],
          "name": "stderr"
        }
      ]
    },
    {
      "cell_type": "code",
      "metadata": {
        "colab": {
          "base_uri": "https://localhost:8080/"
        },
        "id": "nMB__P1wtQuA",
        "outputId": "1b767f3b-f25c-479f-bf00-621d0ed7684b"
      },
      "source": [
        "# [einops] stands for Einstein-Inspired Notation for operations\r\n",
        "# 텐서 연산을 보다 효과적으로 구성하기 위한 패키지\r\n",
        "!pip install einops"
      ],
      "execution_count": null,
      "outputs": [
        {
          "output_type": "stream",
          "text": [
            "Collecting einops\n",
            "  Downloading https://files.pythonhosted.org/packages/5d/a0/9935e030634bf60ecd572c775f64ace82ceddf2f504a5fd3902438f07090/einops-0.3.0-py2.py3-none-any.whl\n",
            "Installing collected packages: einops\n",
            "Successfully installed einops-0.3.0\n"
          ],
          "name": "stdout"
        }
      ]
    },
    {
      "cell_type": "markdown",
      "metadata": {
        "id": "x9yCr9OwrSSe"
      },
      "source": [
        "## Vision Transformer Overal Model View\r\n",
        "\r\n",
        "The vision transformer does not use any CNN style filters for detecting any features from images. It just uses *Self-Attention* mechanism with queries, keys, values derived from input patches (in sequence).\r\n",
        "\r\n",
        "\r\n",
        "This is the most interesting point of Vision Transformer !\r\n",
        "\r\n",
        "![Vit](https://github.com/jeonggunlee/Vision-Transformer-Study/blob/main/image1.gif?raw=1)\r\n",
        "\r\n",
        "Ref: https://ai.googleblog.com/2020/12/transformers-for-image-recognition-at.html"
      ]
    },
    {
      "cell_type": "code",
      "metadata": {
        "id": "YLb_DHqss52c"
      },
      "source": [
        "import torch\r\n",
        "import torch.nn.functional as F\r\n",
        "\r\n",
        "from torch import nn\r\n",
        "from einops import rearrange  # 이미지 구조 변경에 매우 용이한 유틸리티\r\n",
        "\r\n",
        "# Vision Transformer (ViT)의 오리지널 소스 코드\r\n",
        "# https://github.com/lucidrains/vit-pytorch/blob/main/vit_pytorch/vit_pytorch.py\r\n",
        "\r\n",
        "class Residual(nn.Module):\r\n",
        "    def __init__(self, fn):\r\n",
        "        super().__init__()\r\n",
        "        self.fn = fn\r\n",
        "\r\n",
        "    def forward(self, x, **kwargs):\r\n",
        "        return self.fn(x, **kwargs) + x\r\n",
        "\r\n",
        "class PreNorm(nn.Module):\r\n",
        "    def __init__(self, dim, fn):\r\n",
        "        super().__init__()\r\n",
        "        self.norm = nn.LayerNorm(dim)\r\n",
        "        self.fn = fn\r\n",
        "\r\n",
        "    def forward(self, x, **kwargs):\r\n",
        "        return self.fn(self.norm(x), **kwargs)\r\n",
        "\r\n",
        "class FeedForward(nn.Module):\r\n",
        "    def __init__(self, dim, hidden_dim):\r\n",
        "        super().__init__()\r\n",
        "        self.net = nn.Sequential(\r\n",
        "            nn.Linear(dim, hidden_dim),\r\n",
        "            nn.GELU(),\r\n",
        "            nn.Linear(hidden_dim, dim)  # Note: Activation 없음\r\n",
        "        )\r\n",
        "\r\n",
        "    def forward(self, x):\r\n",
        "        return self.net(x)\r\n",
        "\r\n"
      ],
      "execution_count": null,
      "outputs": []
    },
    {
      "cell_type": "markdown",
      "metadata": {
        "id": "U8ynbI2QLnup"
      },
      "source": [
        "\r\n",
        "## Multi-head Attention Module\r\n",
        " With Query, Key, Value !"
      ]
    },
    {
      "cell_type": "code",
      "metadata": {
        "id": "ZW2otu7kLSae"
      },
      "source": [
        "class Attention(nn.Module):        # Attention 모듈\r\n",
        "    def __init__(self, dim, heads=8):\r\n",
        "        super().__init__()\r\n",
        "        self.heads = heads         # head의 수\r\n",
        "        self.scale = dim ** -0.5   # scaled dot-product에 사용될 scale factor: Sqrt(dim)\r\n",
        "\r\n",
        "        ## Query, Key, Value에 대해서 prject을 수행\r\n",
        "        ## dim --> dim * 3 => projected Q, projected K, project V\r\n",
        "        ## Self attention 구성을 위해서 하나의 X 값을 입력 받아, Qx, Kx, Vx를 구성한다\r\n",
        "        self.to_qkv = nn.Linear(dim, dim * 3, bias=False)\r\n",
        "        self.to_out = nn.Linear(dim, dim)\r\n",
        "\r\n",
        "    def forward(self, x, mask = None):\r\n",
        "        b, n, _, h = *x.shape, self.heads\r\n",
        "        # print(\"X shape\", x.shape)\r\n",
        "        # X shape torch.Size([100, 17, 64]) : 패치(16) + class(1) 등 총 17개의 64차원으로 embeding된 데이터가 들어옮\r\n",
        "\r\n",
        "        qkv = self.to_qkv(x)                 # ## Self attention 구성을 위해서 하나의 X 값을 입력 받아, Qx, Kx, Vx를 구성한다\r\n",
        "        # print(\"qkv shape\", qkv.shape)\r\n",
        "        # qkv shape torch.Size([100, 17, 192]) : 64 x 3 -> 192\r\n",
        "        # 192 = qkv * h * d = qkv * 8 * d ==> qkv * d = 24\r\n",
        "        q, k, v = rearrange(qkv, 'b n (qkv h d) -> qkv b h n d', qkv=3, h=h)  # b : # batches\r\n",
        "                                                                              # n : # of sequence = # of patches + 1\r\n",
        "                                                                              # qkv: query, key, value\r\n",
        "                                                                              # h : # of heads\r\n",
        "                                                                              # d : # of dimension\r\n",
        "        #q shape torch.Size([100, 8, 17, 8])  batch, head, seqlength, dimension\r\n",
        "        #k shape torch.Size([100, 8, 17, 8])\r\n",
        "        #v shape torch.Size([100, 8, 17, 8])\r\n",
        "\r\n",
        "        # Scaled Dot Product 계산: Self-Attention !!!\r\n",
        "        dots = torch.einsum('bhid,bhjd->bhij', q, k) * self.scale\r\n",
        "        # print(\"dots shape\", dots.shape)\r\n",
        "        # dots shape torch.Size([100, 8, 17, 17]) --> [17, 17] is an attention map\r\n",
        "\r\n",
        "        if mask is not None:\r\n",
        "            mask = F.pad(mask.flatten(1), (1, 0), value = True)\r\n",
        "            assert mask.shape[-1] == dots.shape[-1], 'mask has incorrect dimensions'\r\n",
        "            mask = mask[:, None, :] * mask[:, :, None]\r\n",
        "            dots.masked_fill_(~mask, float('-inf'))\r\n",
        "            del mask\r\n",
        "\r\n",
        "        # Softmax를 통해서 Attention 계산\r\n",
        "        attn = dots.softmax(dim=-1)\r\n",
        "        # print(\"Attention shape\", attn.shape)\r\n",
        "        # Attention shape torch.Size([100, 8, 17, 17])\r\n",
        "\r\n",
        "        # Attention * Value for each head for each batch\r\n",
        "        out = torch.einsum('bhij,bhjd->bhid', attn, v)\r\n",
        "        # print(\"Value * Attention shape\", out.shape)\r\n",
        "        # Value * Attention shape torch.Size([100, 8, 17, 8])\r\n",
        "\r\n",
        "        out = rearrange(out, 'b h n d -> b n (h d)')\r\n",
        "        \r\n",
        "        out =  self.to_out(out)  # nn.Linear(dim, dim)\r\n",
        "        return out\r\n",
        "\r\n"
      ],
      "execution_count": null,
      "outputs": []
    },
    {
      "cell_type": "markdown",
      "metadata": {
        "id": "jdRSCgaxu32o"
      },
      "source": [
        "By printing out ```\"attn\"```, you can check how attention maps are derived from input patch sequences.\r\n",
        "\r\n",
        "What does the attention betweeen image patches actually mean ? It maybe a very fundamental question for understanding the transformer's ability of classifying image classes."
      ]
    },
    {
      "cell_type": "markdown",
      "metadata": {
        "id": "-eD6jmZuMALE"
      },
      "source": [
        "## Transformer (Encoder Part Only)= Multi-head Attention + FeedForward Network"
      ]
    },
    {
      "cell_type": "code",
      "metadata": {
        "id": "CYzizu4BLXxC"
      },
      "source": [
        "class Transformer(nn.Module):\r\n",
        "    def __init__(self, dim, depth, heads, mlp_dim):\r\n",
        "        super().__init__()\r\n",
        "        self.layers = nn.ModuleList([])\r\n",
        "        for _ in range(depth):\r\n",
        "            self.layers.append(nn.ModuleList([\r\n",
        "                Residual(PreNorm(dim, Attention(dim, heads = heads))),\r\n",
        "                Residual(PreNorm(dim, FeedForward(dim, mlp_dim)))\r\n",
        "            ]))\r\n",
        "\r\n",
        "    def forward(self, x, mask=None):\r\n",
        "        for attn, ff in self.layers:\r\n",
        "            x = attn(x, mask=mask)\r\n",
        "            x = ff(x)\r\n",
        "        return x\r\n",
        "\r\n"
      ],
      "execution_count": null,
      "outputs": []
    },
    {
      "cell_type": "markdown",
      "metadata": {
        "id": "62a9xTXpMKRL"
      },
      "source": [
        "## Visual Transformer\r\n",
        "\r\n",
        "![Transformer](https://nlpinkorean.github.io/images/transformer/transformer_resideual_layer_norm_2.png)\r\n",
        "\r\n",
        "Ref: https://nlpinkorean.github.io/illustrated-transformer/"
      ]
    },
    {
      "cell_type": "code",
      "metadata": {
        "id": "f3TjRyu4LazJ"
      },
      "source": [
        "class ViT(nn.Module):\r\n",
        "    def __init__(self, *, image_size, patch_size, num_classes, dim, depth, heads, mlp_dim, channels=3):\r\n",
        "        super().__init__()\r\n",
        "        assert image_size % patch_size == 0, 'image dimensions must be divisible by the patch size'\r\n",
        "        num_patches = (image_size // patch_size) ** 2\r\n",
        "        # patch의 수 x축 패치 수와 y축 패치 수를 곱하고 다시 채널수를 곱함. ==> Sequence Length (n) = 17\r\n",
        "        # MNIST의 경우 채널이 하나이기 때문에 channels = 1\r\n",
        "        patch_dim = channels * patch_size ** 2  # 7*7 = 49. 추후 임베딩을 통해서 64로 변경\r\n",
        "\r\n",
        "        # 패치 하나의 길이 in pixel\r\n",
        "        self.patch_size = patch_size\r\n",
        "\r\n",
        "        # 위치 임베딩을 위한 학습 파라미터 생성\r\n",
        "        self.pos_embedding = nn.Parameter(torch.randn(1, num_patches + 1, dim))\r\n",
        "\r\n",
        "        self.patch_to_embedding = nn.Linear(patch_dim, dim)  # 49 --> 64\r\n",
        "\r\n",
        "        # 클래스 토큰 파라미터 생성\r\n",
        "        self.cls_token = nn.Parameter(torch.randn(1, 1, dim))\r\n",
        "\r\n",
        "        self.transformer = Transformer(dim, depth, heads, mlp_dim)\r\n",
        "\r\n",
        "        self.to_cls_token = nn.Identity()\r\n",
        "\r\n",
        "        self.mlp_head = nn.Sequential(\r\n",
        "            nn.Linear(dim, mlp_dim),\r\n",
        "            nn.GELU(),\r\n",
        "            nn.Linear(mlp_dim, num_classes)\r\n",
        "        )\r\n",
        "\r\n",
        "    def forward(self, img, mask=None):\r\n",
        "        p = self.patch_size\r\n",
        "\r\n",
        "        # rearrange\r\n",
        "        # batch channel (head p1) (w p2) -> batch (h w) (p1 p2 c)\r\n",
        "        # h : # of patches in a vertical view\r\n",
        "        # w : # of patches in a horizontal view\r\n",
        "        # In MNIST: h=4, w=4, p1=7, p2=7, c=1\r\n",
        "        #print(\"Input X\", img.shape)\r\n",
        "        # Input X torch.Size([100, 1, 28, 28])\r\n",
        "        x = rearrange(img, 'b c (h p1) (w p2) -> b (h w) (p1 p2 c)', p1 = p, p2 = p)\r\n",
        "        #print(\"Rearrange X\", x.shape)\r\n",
        "        # Rearrange X torch.Size([100, 16, 49])\r\n",
        "        x = self.patch_to_embedding(x)     # (h w) --> dim vector\r\n",
        "        # b (h w) (p1 p2 c) --> b (h w) dim\r\n",
        "        #print(\"Embedding X\", x.shape)\r\n",
        "        # Embedding X torch.Size([100, 16, 64])\r\n",
        "\r\n",
        "        cls_tokens = self.cls_token.expand(img.shape[0], -1, -1)\r\n",
        "        x = torch.cat((cls_tokens, x), dim=1)\r\n",
        "        x += self.pos_embedding\r\n",
        "        x = self.transformer(x, mask)\r\n",
        "\r\n",
        "        x = self.to_cls_token(x[:, 0])\r\n",
        "        return self.mlp_head(x)"
      ],
      "execution_count": null,
      "outputs": []
    },
    {
      "cell_type": "markdown",
      "metadata": {
        "id": "0fg1VVtfMQCl"
      },
      "source": [
        "## Train and Validation"
      ]
    },
    {
      "cell_type": "code",
      "metadata": {
        "id": "JDhzDayptVsi"
      },
      "source": [
        "# training / evaluate function\r\n",
        "\r\n",
        "def train_epoch(model, optimizer, data_loader, loss_history):\r\n",
        "    total_samples = len(data_loader.dataset)\r\n",
        "    model.train()\r\n",
        "\r\n",
        "    # data ~ torch.Size([100, 1, 28, 28])\r\n",
        "    # batch size = 100\r\n",
        "    for i, (data, target) in enumerate(data_loader):\r\n",
        "        optimizer.zero_grad()\r\n",
        "        output = F.log_softmax(model(data), dim=1)             \r\n",
        "        loss = F.nll_loss(output, target)\r\n",
        "        loss.backward()\r\n",
        "        optimizer.step()\r\n",
        "\r\n",
        "        if i % 100 == 0:\r\n",
        "            print('[' +  '{:5}'.format(i * len(data)) + '/' + '{:5}'.format(total_samples) +\r\n",
        "                  ' (' + '{:3.0f}'.format(100 * i / len(data_loader)) + '%)]  Loss: ' +\r\n",
        "                  '{:6.4f}'.format(loss.item()))\r\n",
        "            loss_history.append(loss.item())\r\n",
        "\r\n",
        "def evaluate(model, data_loader, loss_history):\r\n",
        "    model.eval()\r\n",
        "    \r\n",
        "    total_samples = len(data_loader.dataset)\r\n",
        "    correct_samples = 0\r\n",
        "    total_loss = 0\r\n",
        "    \r\n",
        "    # avg test loss / avg accuracy\r\n",
        "    with torch.no_grad():\r\n",
        "        for data, target in data_loader:\r\n",
        "            output = F.log_softmax(model(data), dim=1)\r\n",
        "            loss = F.nll_loss(output, target, reduction='sum')\r\n",
        "            _, pred = torch.max(output, dim=1)\r\n",
        "            \r\n",
        "            total_loss += loss.item()\r\n",
        "            correct_samples += pred.eq(target).sum()\r\n",
        "\r\n",
        "    avg_loss = total_loss / total_samples\r\n",
        "    loss_history.append(avg_loss)\r\n",
        "    print('\\nAverage test loss: ' + '{:.4f}'.format(avg_loss) +\r\n",
        "          '  Accuracy:' + '{:5}'.format(correct_samples) + '/' +\r\n",
        "          '{:5}'.format(total_samples) + ' (' +\r\n",
        "          '{:4.2f}'.format(100.0 * correct_samples / total_samples) + '%)\\n')"
      ],
      "execution_count": null,
      "outputs": []
    },
    {
      "cell_type": "code",
      "metadata": {
        "colab": {
          "base_uri": "https://localhost:8080/"
        },
        "id": "Z8vrs_x1ta-h",
        "outputId": "5083e5a9-1bfb-4f0c-ed7c-a50bda1d5187"
      },
      "source": [
        "import time\r\n",
        "\r\n",
        "N_EPOCHS = 1  # 25 default. 1 just for debugging\r\n",
        "\r\n",
        "start_time = time.time()\r\n",
        "\r\n",
        "# Vision Transformer !\r\n",
        "model = ViT(image_size=28, patch_size=7, num_classes=10, channels=1,\r\n",
        "            dim=64, depth=6, heads=8, mlp_dim=128)\r\n",
        "optimizer = optim.Adam(model.parameters(), lr=0.003)\r\n",
        "\r\n",
        "train_loss_history, test_loss_history = [], []\r\n",
        "for epoch in range(1, N_EPOCHS + 1):\r\n",
        "    print('Epoch:', epoch)\r\n",
        "    train_epoch(model, optimizer, train_loader, train_loss_history)\r\n",
        "    evaluate(model, test_loader, test_loss_history)\r\n",
        "\r\n",
        "print('Execution time:', '{:5.2f}'.format(time.time() - start_time), 'seconds')"
      ],
      "execution_count": null,
      "outputs": [
        {
          "output_type": "stream",
          "text": [
            "Epoch: 1\n",
            "[    0/60000 (  0%)]  Loss: 2.2833\n",
            "[10000/60000 ( 17%)]  Loss: 0.6869\n",
            "[20000/60000 ( 33%)]  Loss: 0.2414\n",
            "[30000/60000 ( 50%)]  Loss: 0.2322\n",
            "[40000/60000 ( 67%)]  Loss: 0.1621\n",
            "[50000/60000 ( 83%)]  Loss: 0.0687\n",
            "\n",
            "Average test loss: 0.1301  Accuracy: 9582/10000 (95.82%)\n",
            "\n",
            "Execution time: 88.26 seconds\n"
          ],
          "name": "stdout"
        }
      ]
    }
  ]
}